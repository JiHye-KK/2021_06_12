{
 "cells": [
  {
   "cell_type": "markdown",
   "metadata": {},
   "source": [
    "## 프로그래밍3 최종분석과제"
   ]
  },
  {
   "cell_type": "markdown",
   "metadata": {},
   "source": [
    "산업데이터사이언스학부 201904200 김지혜"
   ]
  },
  {
   "cell_type": "code",
   "execution_count": 1,
   "metadata": {},
   "outputs": [],
   "source": [
    "import pandas as pd\n",
    "import numpy as np\n",
    "import matplotlib.pyplot as plt\n",
    "import seaborn as sns"
   ]
  },
  {
   "cell_type": "code",
   "execution_count": 2,
   "metadata": {},
   "outputs": [
    {
     "data": {
      "text/html": [
       "<div>\n",
       "<style scoped>\n",
       "    .dataframe tbody tr th:only-of-type {\n",
       "        vertical-align: middle;\n",
       "    }\n",
       "\n",
       "    .dataframe tbody tr th {\n",
       "        vertical-align: top;\n",
       "    }\n",
       "\n",
       "    .dataframe thead th {\n",
       "        text-align: right;\n",
       "    }\n",
       "</style>\n",
       "<table border=\"1\" class=\"dataframe\">\n",
       "  <thead>\n",
       "    <tr style=\"text-align: right;\">\n",
       "      <th></th>\n",
       "      <th>Leave</th>\n",
       "      <th>MemberWeeks</th>\n",
       "      <th>NewContract</th>\n",
       "      <th>IsData</th>\n",
       "      <th>DataAmount</th>\n",
       "      <th>Callcenter</th>\n",
       "      <th>CalMins</th>\n",
       "      <th>CalCounts</th>\n",
       "      <th>MonthlyFee</th>\n",
       "      <th>OverFee</th>\n",
       "      <th>RoamingMin</th>\n",
       "    </tr>\n",
       "  </thead>\n",
       "  <tbody>\n",
       "    <tr>\n",
       "      <th>0</th>\n",
       "      <td>0</td>\n",
       "      <td>128</td>\n",
       "      <td>1</td>\n",
       "      <td>1</td>\n",
       "      <td>2.70</td>\n",
       "      <td>1</td>\n",
       "      <td>265.1</td>\n",
       "      <td>110</td>\n",
       "      <td>89.0</td>\n",
       "      <td>9.87</td>\n",
       "      <td>10.0</td>\n",
       "    </tr>\n",
       "    <tr>\n",
       "      <th>1</th>\n",
       "      <td>0</td>\n",
       "      <td>107</td>\n",
       "      <td>1</td>\n",
       "      <td>1</td>\n",
       "      <td>3.70</td>\n",
       "      <td>1</td>\n",
       "      <td>161.6</td>\n",
       "      <td>123</td>\n",
       "      <td>82.0</td>\n",
       "      <td>9.78</td>\n",
       "      <td>13.7</td>\n",
       "    </tr>\n",
       "    <tr>\n",
       "      <th>2</th>\n",
       "      <td>0</td>\n",
       "      <td>137</td>\n",
       "      <td>1</td>\n",
       "      <td>0</td>\n",
       "      <td>0.00</td>\n",
       "      <td>0</td>\n",
       "      <td>243.4</td>\n",
       "      <td>114</td>\n",
       "      <td>52.0</td>\n",
       "      <td>6.06</td>\n",
       "      <td>12.2</td>\n",
       "    </tr>\n",
       "    <tr>\n",
       "      <th>3</th>\n",
       "      <td>0</td>\n",
       "      <td>84</td>\n",
       "      <td>0</td>\n",
       "      <td>0</td>\n",
       "      <td>0.00</td>\n",
       "      <td>2</td>\n",
       "      <td>299.4</td>\n",
       "      <td>71</td>\n",
       "      <td>57.0</td>\n",
       "      <td>3.10</td>\n",
       "      <td>6.6</td>\n",
       "    </tr>\n",
       "    <tr>\n",
       "      <th>4</th>\n",
       "      <td>0</td>\n",
       "      <td>75</td>\n",
       "      <td>0</td>\n",
       "      <td>0</td>\n",
       "      <td>0.00</td>\n",
       "      <td>3</td>\n",
       "      <td>166.7</td>\n",
       "      <td>113</td>\n",
       "      <td>41.0</td>\n",
       "      <td>7.42</td>\n",
       "      <td>10.1</td>\n",
       "    </tr>\n",
       "    <tr>\n",
       "      <th>...</th>\n",
       "      <td>...</td>\n",
       "      <td>...</td>\n",
       "      <td>...</td>\n",
       "      <td>...</td>\n",
       "      <td>...</td>\n",
       "      <td>...</td>\n",
       "      <td>...</td>\n",
       "      <td>...</td>\n",
       "      <td>...</td>\n",
       "      <td>...</td>\n",
       "      <td>...</td>\n",
       "    </tr>\n",
       "    <tr>\n",
       "      <th>3328</th>\n",
       "      <td>0</td>\n",
       "      <td>192</td>\n",
       "      <td>1</td>\n",
       "      <td>1</td>\n",
       "      <td>2.67</td>\n",
       "      <td>2</td>\n",
       "      <td>156.2</td>\n",
       "      <td>77</td>\n",
       "      <td>71.7</td>\n",
       "      <td>10.78</td>\n",
       "      <td>9.9</td>\n",
       "    </tr>\n",
       "    <tr>\n",
       "      <th>3329</th>\n",
       "      <td>0</td>\n",
       "      <td>68</td>\n",
       "      <td>1</td>\n",
       "      <td>0</td>\n",
       "      <td>0.34</td>\n",
       "      <td>3</td>\n",
       "      <td>231.1</td>\n",
       "      <td>57</td>\n",
       "      <td>56.4</td>\n",
       "      <td>7.67</td>\n",
       "      <td>9.6</td>\n",
       "    </tr>\n",
       "    <tr>\n",
       "      <th>3330</th>\n",
       "      <td>0</td>\n",
       "      <td>28</td>\n",
       "      <td>1</td>\n",
       "      <td>0</td>\n",
       "      <td>0.00</td>\n",
       "      <td>2</td>\n",
       "      <td>180.8</td>\n",
       "      <td>109</td>\n",
       "      <td>56.0</td>\n",
       "      <td>14.44</td>\n",
       "      <td>14.1</td>\n",
       "    </tr>\n",
       "    <tr>\n",
       "      <th>3331</th>\n",
       "      <td>0</td>\n",
       "      <td>184</td>\n",
       "      <td>0</td>\n",
       "      <td>0</td>\n",
       "      <td>0.00</td>\n",
       "      <td>2</td>\n",
       "      <td>213.8</td>\n",
       "      <td>105</td>\n",
       "      <td>50.0</td>\n",
       "      <td>7.98</td>\n",
       "      <td>5.0</td>\n",
       "    </tr>\n",
       "    <tr>\n",
       "      <th>3332</th>\n",
       "      <td>0</td>\n",
       "      <td>74</td>\n",
       "      <td>1</td>\n",
       "      <td>1</td>\n",
       "      <td>3.70</td>\n",
       "      <td>0</td>\n",
       "      <td>234.4</td>\n",
       "      <td>113</td>\n",
       "      <td>100.0</td>\n",
       "      <td>13.30</td>\n",
       "      <td>13.7</td>\n",
       "    </tr>\n",
       "  </tbody>\n",
       "</table>\n",
       "<p>3333 rows × 11 columns</p>\n",
       "</div>"
      ],
      "text/plain": [
       "      Leave  MemberWeeks  NewContract  IsData  DataAmount  Callcenter  \\\n",
       "0         0          128            1       1        2.70           1   \n",
       "1         0          107            1       1        3.70           1   \n",
       "2         0          137            1       0        0.00           0   \n",
       "3         0           84            0       0        0.00           2   \n",
       "4         0           75            0       0        0.00           3   \n",
       "...     ...          ...          ...     ...         ...         ...   \n",
       "3328      0          192            1       1        2.67           2   \n",
       "3329      0           68            1       0        0.34           3   \n",
       "3330      0           28            1       0        0.00           2   \n",
       "3331      0          184            0       0        0.00           2   \n",
       "3332      0           74            1       1        3.70           0   \n",
       "\n",
       "      CalMins  CalCounts  MonthlyFee  OverFee  RoamingMin  \n",
       "0       265.1        110        89.0     9.87        10.0  \n",
       "1       161.6        123        82.0     9.78        13.7  \n",
       "2       243.4        114        52.0     6.06        12.2  \n",
       "3       299.4         71        57.0     3.10         6.6  \n",
       "4       166.7        113        41.0     7.42        10.1  \n",
       "...       ...        ...         ...      ...         ...  \n",
       "3328    156.2         77        71.7    10.78         9.9  \n",
       "3329    231.1         57        56.4     7.67         9.6  \n",
       "3330    180.8        109        56.0    14.44        14.1  \n",
       "3331    213.8        105        50.0     7.98         5.0  \n",
       "3332    234.4        113       100.0    13.30        13.7  \n",
       "\n",
       "[3333 rows x 11 columns]"
      ]
     },
     "execution_count": 2,
     "metadata": {},
     "output_type": "execute_result"
    }
   ],
   "source": [
    "tel = pd.read_csv('data/telco.csv')\n",
    "tel"
   ]
  },
  {
   "cell_type": "code",
   "execution_count": 3,
   "metadata": {},
   "outputs": [
    {
     "data": {
      "text/plain": [
       "Leave          0\n",
       "MemberWeeks    0\n",
       "NewContract    0\n",
       "IsData         0\n",
       "DataAmount     0\n",
       "Callcenter     0\n",
       "CalMins        0\n",
       "CalCounts      0\n",
       "MonthlyFee     0\n",
       "OverFee        0\n",
       "RoamingMin     0\n",
       "dtype: int64"
      ]
     },
     "execution_count": 3,
     "metadata": {},
     "output_type": "execute_result"
    }
   ],
   "source": [
    "tel.isna().sum()"
   ]
  },
  {
   "cell_type": "code",
   "execution_count": 4,
   "metadata": {},
   "outputs": [
    {
     "name": "stdout",
     "output_type": "stream",
     "text": [
      "<class 'pandas.core.frame.DataFrame'>\n",
      "RangeIndex: 3333 entries, 0 to 3332\n",
      "Data columns (total 11 columns):\n",
      " #   Column       Non-Null Count  Dtype  \n",
      "---  ------       --------------  -----  \n",
      " 0   Leave        3333 non-null   int64  \n",
      " 1   MemberWeeks  3333 non-null   int64  \n",
      " 2   NewContract  3333 non-null   int64  \n",
      " 3   IsData       3333 non-null   int64  \n",
      " 4   DataAmount   3333 non-null   float64\n",
      " 5   Callcenter   3333 non-null   int64  \n",
      " 6   CalMins      3333 non-null   float64\n",
      " 7   CalCounts    3333 non-null   int64  \n",
      " 8   MonthlyFee   3333 non-null   float64\n",
      " 9   OverFee      3333 non-null   float64\n",
      " 10  RoamingMin   3333 non-null   float64\n",
      "dtypes: float64(5), int64(6)\n",
      "memory usage: 286.6 KB\n"
     ]
    }
   ],
   "source": [
    "tel.info()"
   ]
  },
  {
   "cell_type": "code",
   "execution_count": 5,
   "metadata": {},
   "outputs": [
    {
     "data": {
      "text/html": [
       "<div>\n",
       "<style scoped>\n",
       "    .dataframe tbody tr th:only-of-type {\n",
       "        vertical-align: middle;\n",
       "    }\n",
       "\n",
       "    .dataframe tbody tr th {\n",
       "        vertical-align: top;\n",
       "    }\n",
       "\n",
       "    .dataframe thead th {\n",
       "        text-align: right;\n",
       "    }\n",
       "</style>\n",
       "<table border=\"1\" class=\"dataframe\">\n",
       "  <thead>\n",
       "    <tr style=\"text-align: right;\">\n",
       "      <th></th>\n",
       "      <th>count</th>\n",
       "      <th>mean</th>\n",
       "      <th>std</th>\n",
       "      <th>min</th>\n",
       "      <th>25%</th>\n",
       "      <th>50%</th>\n",
       "      <th>75%</th>\n",
       "      <th>max</th>\n",
       "    </tr>\n",
       "  </thead>\n",
       "  <tbody>\n",
       "    <tr>\n",
       "      <th>Leave</th>\n",
       "      <td>3333.0</td>\n",
       "      <td>0.144914</td>\n",
       "      <td>0.352067</td>\n",
       "      <td>0.0</td>\n",
       "      <td>0.00</td>\n",
       "      <td>0.00</td>\n",
       "      <td>0.00</td>\n",
       "      <td>1.00</td>\n",
       "    </tr>\n",
       "    <tr>\n",
       "      <th>MemberWeeks</th>\n",
       "      <td>3333.0</td>\n",
       "      <td>101.064806</td>\n",
       "      <td>39.822106</td>\n",
       "      <td>1.0</td>\n",
       "      <td>74.00</td>\n",
       "      <td>101.00</td>\n",
       "      <td>127.00</td>\n",
       "      <td>243.00</td>\n",
       "    </tr>\n",
       "    <tr>\n",
       "      <th>NewContract</th>\n",
       "      <td>3333.0</td>\n",
       "      <td>0.903090</td>\n",
       "      <td>0.295879</td>\n",
       "      <td>0.0</td>\n",
       "      <td>1.00</td>\n",
       "      <td>1.00</td>\n",
       "      <td>1.00</td>\n",
       "      <td>1.00</td>\n",
       "    </tr>\n",
       "    <tr>\n",
       "      <th>IsData</th>\n",
       "      <td>3333.0</td>\n",
       "      <td>0.276628</td>\n",
       "      <td>0.447398</td>\n",
       "      <td>0.0</td>\n",
       "      <td>0.00</td>\n",
       "      <td>0.00</td>\n",
       "      <td>1.00</td>\n",
       "      <td>1.00</td>\n",
       "    </tr>\n",
       "    <tr>\n",
       "      <th>DataAmount</th>\n",
       "      <td>3333.0</td>\n",
       "      <td>0.816475</td>\n",
       "      <td>1.272668</td>\n",
       "      <td>0.0</td>\n",
       "      <td>0.00</td>\n",
       "      <td>0.00</td>\n",
       "      <td>1.78</td>\n",
       "      <td>5.40</td>\n",
       "    </tr>\n",
       "    <tr>\n",
       "      <th>Callcenter</th>\n",
       "      <td>3333.0</td>\n",
       "      <td>1.562856</td>\n",
       "      <td>1.315491</td>\n",
       "      <td>0.0</td>\n",
       "      <td>1.00</td>\n",
       "      <td>1.00</td>\n",
       "      <td>2.00</td>\n",
       "      <td>9.00</td>\n",
       "    </tr>\n",
       "    <tr>\n",
       "      <th>CalMins</th>\n",
       "      <td>3333.0</td>\n",
       "      <td>179.775098</td>\n",
       "      <td>54.467389</td>\n",
       "      <td>0.0</td>\n",
       "      <td>143.70</td>\n",
       "      <td>179.40</td>\n",
       "      <td>216.40</td>\n",
       "      <td>350.80</td>\n",
       "    </tr>\n",
       "    <tr>\n",
       "      <th>CalCounts</th>\n",
       "      <td>3333.0</td>\n",
       "      <td>100.435644</td>\n",
       "      <td>20.069084</td>\n",
       "      <td>0.0</td>\n",
       "      <td>87.00</td>\n",
       "      <td>101.00</td>\n",
       "      <td>114.00</td>\n",
       "      <td>165.00</td>\n",
       "    </tr>\n",
       "    <tr>\n",
       "      <th>MonthlyFee</th>\n",
       "      <td>3333.0</td>\n",
       "      <td>56.305161</td>\n",
       "      <td>16.426032</td>\n",
       "      <td>14.0</td>\n",
       "      <td>45.00</td>\n",
       "      <td>53.50</td>\n",
       "      <td>66.20</td>\n",
       "      <td>111.30</td>\n",
       "    </tr>\n",
       "    <tr>\n",
       "      <th>OverFee</th>\n",
       "      <td>3333.0</td>\n",
       "      <td>10.051488</td>\n",
       "      <td>2.535712</td>\n",
       "      <td>0.0</td>\n",
       "      <td>8.33</td>\n",
       "      <td>10.07</td>\n",
       "      <td>11.77</td>\n",
       "      <td>18.19</td>\n",
       "    </tr>\n",
       "    <tr>\n",
       "      <th>RoamingMin</th>\n",
       "      <td>3333.0</td>\n",
       "      <td>10.237294</td>\n",
       "      <td>2.791840</td>\n",
       "      <td>0.0</td>\n",
       "      <td>8.50</td>\n",
       "      <td>10.30</td>\n",
       "      <td>12.10</td>\n",
       "      <td>20.00</td>\n",
       "    </tr>\n",
       "  </tbody>\n",
       "</table>\n",
       "</div>"
      ],
      "text/plain": [
       "              count        mean        std   min     25%     50%     75%  \\\n",
       "Leave        3333.0    0.144914   0.352067   0.0    0.00    0.00    0.00   \n",
       "MemberWeeks  3333.0  101.064806  39.822106   1.0   74.00  101.00  127.00   \n",
       "NewContract  3333.0    0.903090   0.295879   0.0    1.00    1.00    1.00   \n",
       "IsData       3333.0    0.276628   0.447398   0.0    0.00    0.00    1.00   \n",
       "DataAmount   3333.0    0.816475   1.272668   0.0    0.00    0.00    1.78   \n",
       "Callcenter   3333.0    1.562856   1.315491   0.0    1.00    1.00    2.00   \n",
       "CalMins      3333.0  179.775098  54.467389   0.0  143.70  179.40  216.40   \n",
       "CalCounts    3333.0  100.435644  20.069084   0.0   87.00  101.00  114.00   \n",
       "MonthlyFee   3333.0   56.305161  16.426032  14.0   45.00   53.50   66.20   \n",
       "OverFee      3333.0   10.051488   2.535712   0.0    8.33   10.07   11.77   \n",
       "RoamingMin   3333.0   10.237294   2.791840   0.0    8.50   10.30   12.10   \n",
       "\n",
       "                max  \n",
       "Leave          1.00  \n",
       "MemberWeeks  243.00  \n",
       "NewContract    1.00  \n",
       "IsData         1.00  \n",
       "DataAmount     5.40  \n",
       "Callcenter     9.00  \n",
       "CalMins      350.80  \n",
       "CalCounts    165.00  \n",
       "MonthlyFee   111.30  \n",
       "OverFee       18.19  \n",
       "RoamingMin    20.00  "
      ]
     },
     "execution_count": 5,
     "metadata": {},
     "output_type": "execute_result"
    }
   ],
   "source": [
    "tel.describe().T"
   ]
  },
  {
   "cell_type": "code",
   "execution_count": 6,
   "metadata": {},
   "outputs": [
    {
     "name": "stdout",
     "output_type": "stream",
     "text": [
      "<class 'pandas.core.frame.DataFrame'>\n",
      "RangeIndex: 3333 entries, 0 to 3332\n",
      "Data columns (total 11 columns):\n",
      " #   Column       Non-Null Count  Dtype  \n",
      "---  ------       --------------  -----  \n",
      " 0   Leave        3333 non-null   int16  \n",
      " 1   MemberWeeks  3333 non-null   int16  \n",
      " 2   NewContract  3333 non-null   int16  \n",
      " 3   IsData       3333 non-null   int16  \n",
      " 4   DataAmount   3333 non-null   float16\n",
      " 5   Callcenter   3333 non-null   int16  \n",
      " 6   CalMins      3333 non-null   float16\n",
      " 7   CalCounts    3333 non-null   int16  \n",
      " 8   MonthlyFee   3333 non-null   float16\n",
      " 9   OverFee      3333 non-null   float16\n",
      " 10  RoamingMin   3333 non-null   float16\n",
      "dtypes: float16(5), int16(6)\n",
      "memory usage: 71.7 KB\n"
     ]
    }
   ],
   "source": [
    "telco = pd.read_csv('data/telco.csv',\n",
    "                 dtype={\n",
    "                     'Leave':np.int16,\n",
    "                     'MemberWeeks':np.int16,\n",
    "                     'NewContract':np.int16,\n",
    "                     'IsData':np.int16,\n",
    "                     'DataAmount':np.float16,\n",
    "                     'Callcenter':np.int16,\n",
    "                     'CalMins':np.float16,\n",
    "                     'CalCounts':np.int16,\n",
    "                     'MonthlyFee':np.float16,\n",
    "                     'OverFee':np.float16,\n",
    "                     'RoamingMin':np.float16\n",
    "                 })\n",
    "telco.info()"
   ]
  },
  {
   "cell_type": "code",
   "execution_count": 7,
   "metadata": {},
   "outputs": [
    {
     "data": {
      "text/plain": [
       "0    2850\n",
       "1     483\n",
       "Name: Leave, dtype: int64"
      ]
     },
     "execution_count": 7,
     "metadata": {},
     "output_type": "execute_result"
    }
   ],
   "source": [
    "telco.Leave.value_counts()"
   ]
  },
  {
   "cell_type": "code",
   "execution_count": 8,
   "metadata": {},
   "outputs": [
    {
     "data": {
      "text/plain": [
       "1    3010\n",
       "0     323\n",
       "Name: NewContract, dtype: int64"
      ]
     },
     "execution_count": 8,
     "metadata": {},
     "output_type": "execute_result"
    }
   ],
   "source": [
    "telco.NewContract.value_counts()"
   ]
  },
  {
   "cell_type": "code",
   "execution_count": 9,
   "metadata": {},
   "outputs": [
    {
     "data": {
      "text/plain": [
       "0    2411\n",
       "1     922\n",
       "Name: IsData, dtype: int64"
      ]
     },
     "execution_count": 9,
     "metadata": {},
     "output_type": "execute_result"
    }
   ],
   "source": [
    "telco.IsData.value_counts()"
   ]
  },
  {
   "cell_type": "code",
   "execution_count": null,
   "metadata": {},
   "outputs": [],
   "source": []
  },
  {
   "cell_type": "code",
   "execution_count": 10,
   "metadata": {},
   "outputs": [
    {
     "data": {
      "text/html": [
       "<div>\n",
       "<style scoped>\n",
       "    .dataframe tbody tr th:only-of-type {\n",
       "        vertical-align: middle;\n",
       "    }\n",
       "\n",
       "    .dataframe tbody tr th {\n",
       "        vertical-align: top;\n",
       "    }\n",
       "\n",
       "    .dataframe thead th {\n",
       "        text-align: right;\n",
       "    }\n",
       "</style>\n",
       "<table border=\"1\" class=\"dataframe\">\n",
       "  <thead>\n",
       "    <tr style=\"text-align: right;\">\n",
       "      <th></th>\n",
       "      <th>Leave</th>\n",
       "      <th>MemberWeeks</th>\n",
       "      <th>NewContract</th>\n",
       "      <th>IsData</th>\n",
       "      <th>DataAmount</th>\n",
       "      <th>Callcenter</th>\n",
       "      <th>CalMins</th>\n",
       "      <th>CalCounts</th>\n",
       "      <th>MonthlyFee</th>\n",
       "      <th>OverFee</th>\n",
       "      <th>RoamingMin</th>\n",
       "      <th>totalFee</th>\n",
       "    </tr>\n",
       "  </thead>\n",
       "  <tbody>\n",
       "    <tr>\n",
       "      <th>0</th>\n",
       "      <td>0</td>\n",
       "      <td>128</td>\n",
       "      <td>1</td>\n",
       "      <td>1</td>\n",
       "      <td>2.699219</td>\n",
       "      <td>1</td>\n",
       "      <td>265.000</td>\n",
       "      <td>110</td>\n",
       "      <td>89.00000</td>\n",
       "      <td>9.867188</td>\n",
       "      <td>10.000000</td>\n",
       "      <td>98.87500</td>\n",
       "    </tr>\n",
       "    <tr>\n",
       "      <th>1</th>\n",
       "      <td>0</td>\n",
       "      <td>107</td>\n",
       "      <td>1</td>\n",
       "      <td>1</td>\n",
       "      <td>3.699219</td>\n",
       "      <td>1</td>\n",
       "      <td>161.625</td>\n",
       "      <td>123</td>\n",
       "      <td>82.00000</td>\n",
       "      <td>9.781250</td>\n",
       "      <td>13.703125</td>\n",
       "      <td>91.75000</td>\n",
       "    </tr>\n",
       "    <tr>\n",
       "      <th>2</th>\n",
       "      <td>0</td>\n",
       "      <td>137</td>\n",
       "      <td>1</td>\n",
       "      <td>0</td>\n",
       "      <td>0.000000</td>\n",
       "      <td>0</td>\n",
       "      <td>243.375</td>\n",
       "      <td>114</td>\n",
       "      <td>52.00000</td>\n",
       "      <td>6.058594</td>\n",
       "      <td>12.203125</td>\n",
       "      <td>58.06250</td>\n",
       "    </tr>\n",
       "    <tr>\n",
       "      <th>3</th>\n",
       "      <td>0</td>\n",
       "      <td>84</td>\n",
       "      <td>0</td>\n",
       "      <td>0</td>\n",
       "      <td>0.000000</td>\n",
       "      <td>2</td>\n",
       "      <td>299.500</td>\n",
       "      <td>71</td>\n",
       "      <td>57.00000</td>\n",
       "      <td>3.099609</td>\n",
       "      <td>6.601562</td>\n",
       "      <td>60.09375</td>\n",
       "    </tr>\n",
       "    <tr>\n",
       "      <th>4</th>\n",
       "      <td>0</td>\n",
       "      <td>75</td>\n",
       "      <td>0</td>\n",
       "      <td>0</td>\n",
       "      <td>0.000000</td>\n",
       "      <td>3</td>\n",
       "      <td>166.750</td>\n",
       "      <td>113</td>\n",
       "      <td>41.00000</td>\n",
       "      <td>7.421875</td>\n",
       "      <td>10.101562</td>\n",
       "      <td>48.43750</td>\n",
       "    </tr>\n",
       "    <tr>\n",
       "      <th>...</th>\n",
       "      <td>...</td>\n",
       "      <td>...</td>\n",
       "      <td>...</td>\n",
       "      <td>...</td>\n",
       "      <td>...</td>\n",
       "      <td>...</td>\n",
       "      <td>...</td>\n",
       "      <td>...</td>\n",
       "      <td>...</td>\n",
       "      <td>...</td>\n",
       "      <td>...</td>\n",
       "      <td>...</td>\n",
       "    </tr>\n",
       "    <tr>\n",
       "      <th>3328</th>\n",
       "      <td>0</td>\n",
       "      <td>192</td>\n",
       "      <td>1</td>\n",
       "      <td>1</td>\n",
       "      <td>2.669922</td>\n",
       "      <td>2</td>\n",
       "      <td>156.250</td>\n",
       "      <td>77</td>\n",
       "      <td>71.68750</td>\n",
       "      <td>10.781250</td>\n",
       "      <td>9.898438</td>\n",
       "      <td>82.50000</td>\n",
       "    </tr>\n",
       "    <tr>\n",
       "      <th>3329</th>\n",
       "      <td>0</td>\n",
       "      <td>68</td>\n",
       "      <td>1</td>\n",
       "      <td>0</td>\n",
       "      <td>0.340088</td>\n",
       "      <td>3</td>\n",
       "      <td>231.125</td>\n",
       "      <td>57</td>\n",
       "      <td>56.40625</td>\n",
       "      <td>7.671875</td>\n",
       "      <td>9.601562</td>\n",
       "      <td>64.06250</td>\n",
       "    </tr>\n",
       "    <tr>\n",
       "      <th>3330</th>\n",
       "      <td>0</td>\n",
       "      <td>28</td>\n",
       "      <td>1</td>\n",
       "      <td>0</td>\n",
       "      <td>0.000000</td>\n",
       "      <td>2</td>\n",
       "      <td>180.750</td>\n",
       "      <td>109</td>\n",
       "      <td>56.00000</td>\n",
       "      <td>14.437500</td>\n",
       "      <td>14.101562</td>\n",
       "      <td>70.43750</td>\n",
       "    </tr>\n",
       "    <tr>\n",
       "      <th>3331</th>\n",
       "      <td>0</td>\n",
       "      <td>184</td>\n",
       "      <td>0</td>\n",
       "      <td>0</td>\n",
       "      <td>0.000000</td>\n",
       "      <td>2</td>\n",
       "      <td>213.750</td>\n",
       "      <td>105</td>\n",
       "      <td>50.00000</td>\n",
       "      <td>7.980469</td>\n",
       "      <td>5.000000</td>\n",
       "      <td>57.96875</td>\n",
       "    </tr>\n",
       "    <tr>\n",
       "      <th>3332</th>\n",
       "      <td>0</td>\n",
       "      <td>74</td>\n",
       "      <td>1</td>\n",
       "      <td>1</td>\n",
       "      <td>3.699219</td>\n",
       "      <td>0</td>\n",
       "      <td>234.375</td>\n",
       "      <td>113</td>\n",
       "      <td>100.00000</td>\n",
       "      <td>13.296875</td>\n",
       "      <td>13.703125</td>\n",
       "      <td>113.31250</td>\n",
       "    </tr>\n",
       "  </tbody>\n",
       "</table>\n",
       "<p>3333 rows × 12 columns</p>\n",
       "</div>"
      ],
      "text/plain": [
       "      Leave  MemberWeeks  NewContract  IsData  DataAmount  Callcenter  \\\n",
       "0         0          128            1       1    2.699219           1   \n",
       "1         0          107            1       1    3.699219           1   \n",
       "2         0          137            1       0    0.000000           0   \n",
       "3         0           84            0       0    0.000000           2   \n",
       "4         0           75            0       0    0.000000           3   \n",
       "...     ...          ...          ...     ...         ...         ...   \n",
       "3328      0          192            1       1    2.669922           2   \n",
       "3329      0           68            1       0    0.340088           3   \n",
       "3330      0           28            1       0    0.000000           2   \n",
       "3331      0          184            0       0    0.000000           2   \n",
       "3332      0           74            1       1    3.699219           0   \n",
       "\n",
       "      CalMins  CalCounts  MonthlyFee    OverFee  RoamingMin   totalFee  \n",
       "0     265.000        110    89.00000   9.867188   10.000000   98.87500  \n",
       "1     161.625        123    82.00000   9.781250   13.703125   91.75000  \n",
       "2     243.375        114    52.00000   6.058594   12.203125   58.06250  \n",
       "3     299.500         71    57.00000   3.099609    6.601562   60.09375  \n",
       "4     166.750        113    41.00000   7.421875   10.101562   48.43750  \n",
       "...       ...        ...         ...        ...         ...        ...  \n",
       "3328  156.250         77    71.68750  10.781250    9.898438   82.50000  \n",
       "3329  231.125         57    56.40625   7.671875    9.601562   64.06250  \n",
       "3330  180.750        109    56.00000  14.437500   14.101562   70.43750  \n",
       "3331  213.750        105    50.00000   7.980469    5.000000   57.96875  \n",
       "3332  234.375        113   100.00000  13.296875   13.703125  113.31250  \n",
       "\n",
       "[3333 rows x 12 columns]"
      ]
     },
     "execution_count": 10,
     "metadata": {},
     "output_type": "execute_result"
    }
   ],
   "source": [
    "#기존 열(월평균요금, 초과요금)을 더해 새로운 열(총 요금) 생성\n",
    "telco['totalFee'] = (telco.MonthlyFee + telco.OverFee)\n",
    "telco"
   ]
  },
  {
   "cell_type": "code",
   "execution_count": 11,
   "metadata": {},
   "outputs": [
    {
     "data": {
      "text/html": [
       "<div>\n",
       "<style scoped>\n",
       "    .dataframe tbody tr th:only-of-type {\n",
       "        vertical-align: middle;\n",
       "    }\n",
       "\n",
       "    .dataframe tbody tr th {\n",
       "        vertical-align: top;\n",
       "    }\n",
       "\n",
       "    .dataframe thead th {\n",
       "        text-align: right;\n",
       "    }\n",
       "</style>\n",
       "<table border=\"1\" class=\"dataframe\">\n",
       "  <thead>\n",
       "    <tr style=\"text-align: right;\">\n",
       "      <th></th>\n",
       "      <th>MemberWeeks</th>\n",
       "      <th>DataAmount</th>\n",
       "      <th>CalMins</th>\n",
       "      <th>totalFee</th>\n",
       "    </tr>\n",
       "  </thead>\n",
       "  <tbody>\n",
       "    <tr>\n",
       "      <th>817</th>\n",
       "      <td>243</td>\n",
       "      <td>0.000000</td>\n",
       "      <td>95.500</td>\n",
       "      <td>39.18750</td>\n",
       "    </tr>\n",
       "    <tr>\n",
       "      <th>1408</th>\n",
       "      <td>232</td>\n",
       "      <td>0.140015</td>\n",
       "      <td>165.625</td>\n",
       "      <td>56.18750</td>\n",
       "    </tr>\n",
       "    <tr>\n",
       "      <th>1751</th>\n",
       "      <td>225</td>\n",
       "      <td>0.000000</td>\n",
       "      <td>182.750</td>\n",
       "      <td>65.31250</td>\n",
       "    </tr>\n",
       "    <tr>\n",
       "      <th>1551</th>\n",
       "      <td>225</td>\n",
       "      <td>0.300049</td>\n",
       "      <td>165.375</td>\n",
       "      <td>68.68750</td>\n",
       "    </tr>\n",
       "    <tr>\n",
       "      <th>1886</th>\n",
       "      <td>224</td>\n",
       "      <td>0.209961</td>\n",
       "      <td>111.375</td>\n",
       "      <td>44.84375</td>\n",
       "    </tr>\n",
       "    <tr>\n",
       "      <th>...</th>\n",
       "      <td>...</td>\n",
       "      <td>...</td>\n",
       "      <td>...</td>\n",
       "      <td>...</td>\n",
       "    </tr>\n",
       "    <tr>\n",
       "      <th>1838</th>\n",
       "      <td>1</td>\n",
       "      <td>2.189453</td>\n",
       "      <td>208.000</td>\n",
       "      <td>83.12500</td>\n",
       "    </tr>\n",
       "    <tr>\n",
       "      <th>2879</th>\n",
       "      <td>1</td>\n",
       "      <td>2.699219</td>\n",
       "      <td>146.625</td>\n",
       "      <td>75.62500</td>\n",
       "    </tr>\n",
       "    <tr>\n",
       "      <th>923</th>\n",
       "      <td>1</td>\n",
       "      <td>0.000000</td>\n",
       "      <td>144.750</td>\n",
       "      <td>40.62500</td>\n",
       "    </tr>\n",
       "    <tr>\n",
       "      <th>1409</th>\n",
       "      <td>1</td>\n",
       "      <td>2.269531</td>\n",
       "      <td>183.125</td>\n",
       "      <td>85.31250</td>\n",
       "    </tr>\n",
       "    <tr>\n",
       "      <th>2475</th>\n",
       "      <td>1</td>\n",
       "      <td>0.000000</td>\n",
       "      <td>175.250</td>\n",
       "      <td>50.59375</td>\n",
       "    </tr>\n",
       "  </tbody>\n",
       "</table>\n",
       "<p>3333 rows × 4 columns</p>\n",
       "</div>"
      ],
      "text/plain": [
       "      MemberWeeks  DataAmount  CalMins  totalFee\n",
       "817           243    0.000000   95.500  39.18750\n",
       "1408          232    0.140015  165.625  56.18750\n",
       "1751          225    0.000000  182.750  65.31250\n",
       "1551          225    0.300049  165.375  68.68750\n",
       "1886          224    0.209961  111.375  44.84375\n",
       "...           ...         ...      ...       ...\n",
       "1838            1    2.189453  208.000  83.12500\n",
       "2879            1    2.699219  146.625  75.62500\n",
       "923             1    0.000000  144.750  40.62500\n",
       "1409            1    2.269531  183.125  85.31250\n",
       "2475            1    0.000000  175.250  50.59375\n",
       "\n",
       "[3333 rows x 4 columns]"
      ]
     },
     "execution_count": 11,
     "metadata": {},
     "output_type": "execute_result"
    }
   ],
   "source": [
    "#가입기간이 긴 순서대로 정렬\n",
    "(\n",
    "    telco[['MemberWeeks', 'DataAmount', 'CalMins', 'totalFee']]\n",
    "    .sort_values('MemberWeeks', ascending=False)\n",
    ")\n",
    "\n",
    "#가입기간이 가장 긴 사용자는 243주, 가장 짧은 사용자는 1주"
   ]
  },
  {
   "cell_type": "code",
   "execution_count": 12,
   "metadata": {},
   "outputs": [
    {
     "data": {
      "text/html": [
       "<div>\n",
       "<style scoped>\n",
       "    .dataframe tbody tr th:only-of-type {\n",
       "        vertical-align: middle;\n",
       "    }\n",
       "\n",
       "    .dataframe tbody tr th {\n",
       "        vertical-align: top;\n",
       "    }\n",
       "\n",
       "    .dataframe thead th {\n",
       "        text-align: right;\n",
       "    }\n",
       "</style>\n",
       "<table border=\"1\" class=\"dataframe\">\n",
       "  <thead>\n",
       "    <tr style=\"text-align: right;\">\n",
       "      <th></th>\n",
       "      <th>MemberWeeks</th>\n",
       "      <th>DataAmount</th>\n",
       "      <th>CalMins</th>\n",
       "      <th>MonthlyFee</th>\n",
       "    </tr>\n",
       "  </thead>\n",
       "  <tbody>\n",
       "    <tr>\n",
       "      <th>2122</th>\n",
       "      <td>69</td>\n",
       "      <td>4.429688</td>\n",
       "      <td>268.750000</td>\n",
       "      <td>111.312500</td>\n",
       "    </tr>\n",
       "    <tr>\n",
       "      <th>115</th>\n",
       "      <td>36</td>\n",
       "      <td>5.398438</td>\n",
       "      <td>196.750000</td>\n",
       "      <td>110.000000</td>\n",
       "    </tr>\n",
       "    <tr>\n",
       "      <th>670</th>\n",
       "      <td>32</td>\n",
       "      <td>4.398438</td>\n",
       "      <td>266.750000</td>\n",
       "      <td>110.000000</td>\n",
       "    </tr>\n",
       "    <tr>\n",
       "      <th>1355</th>\n",
       "      <td>50</td>\n",
       "      <td>3.669922</td>\n",
       "      <td>302.750000</td>\n",
       "      <td>108.687500</td>\n",
       "    </tr>\n",
       "    <tr>\n",
       "      <th>1821</th>\n",
       "      <td>123</td>\n",
       "      <td>4.160156</td>\n",
       "      <td>270.500000</td>\n",
       "      <td>108.625000</td>\n",
       "    </tr>\n",
       "    <tr>\n",
       "      <th>...</th>\n",
       "      <td>...</td>\n",
       "      <td>...</td>\n",
       "      <td>...</td>\n",
       "      <td>...</td>\n",
       "    </tr>\n",
       "    <tr>\n",
       "      <th>2252</th>\n",
       "      <td>148</td>\n",
       "      <td>0.000000</td>\n",
       "      <td>17.593750</td>\n",
       "      <td>17.000000</td>\n",
       "    </tr>\n",
       "    <tr>\n",
       "      <th>2753</th>\n",
       "      <td>134</td>\n",
       "      <td>0.000000</td>\n",
       "      <td>7.800781</td>\n",
       "      <td>16.000000</td>\n",
       "    </tr>\n",
       "    <tr>\n",
       "      <th>2859</th>\n",
       "      <td>87</td>\n",
       "      <td>0.000000</td>\n",
       "      <td>58.000000</td>\n",
       "      <td>16.000000</td>\n",
       "    </tr>\n",
       "    <tr>\n",
       "      <th>1986</th>\n",
       "      <td>70</td>\n",
       "      <td>0.270020</td>\n",
       "      <td>7.898438</td>\n",
       "      <td>15.703125</td>\n",
       "    </tr>\n",
       "    <tr>\n",
       "      <th>1345</th>\n",
       "      <td>98</td>\n",
       "      <td>0.000000</td>\n",
       "      <td>0.000000</td>\n",
       "      <td>14.000000</td>\n",
       "    </tr>\n",
       "  </tbody>\n",
       "</table>\n",
       "<p>3333 rows × 4 columns</p>\n",
       "</div>"
      ],
      "text/plain": [
       "      MemberWeeks  DataAmount     CalMins  MonthlyFee\n",
       "2122           69    4.429688  268.750000  111.312500\n",
       "115            36    5.398438  196.750000  110.000000\n",
       "670            32    4.398438  266.750000  110.000000\n",
       "1355           50    3.669922  302.750000  108.687500\n",
       "1821          123    4.160156  270.500000  108.625000\n",
       "...           ...         ...         ...         ...\n",
       "2252          148    0.000000   17.593750   17.000000\n",
       "2753          134    0.000000    7.800781   16.000000\n",
       "2859           87    0.000000   58.000000   16.000000\n",
       "1986           70    0.270020    7.898438   15.703125\n",
       "1345           98    0.000000    0.000000   14.000000\n",
       "\n",
       "[3333 rows x 4 columns]"
      ]
     },
     "execution_count": 12,
     "metadata": {},
     "output_type": "execute_result"
    }
   ],
   "source": [
    "#월평균요금이 많은 순서대로 정렬\n",
    "(\n",
    "    telco[['MemberWeeks', 'DataAmount', 'CalMins', 'MonthlyFee']]\n",
    "    .sort_values('MonthlyFee', ascending=False)\n",
    ")\n",
    "\n",
    "#월평균요금이 가장 비싼 사용자는 111, 가장 저렴한 사용자는 14"
   ]
  },
  {
   "cell_type": "code",
   "execution_count": null,
   "metadata": {},
   "outputs": [],
   "source": []
  },
  {
   "cell_type": "code",
   "execution_count": 13,
   "metadata": {},
   "outputs": [
    {
     "data": {
      "text/plain": [
       "<AxesSubplot:>"
      ]
     },
     "execution_count": 13,
     "metadata": {},
     "output_type": "execute_result"
    },
    {
     "data": {
      "image/png": "[encoded data removed]",
      "text/plain": [
       "<Figure size 432x288 with 1 Axes>"
      ]
     },
     "metadata": {
      "needs_background": "light"
     },
     "output_type": "display_data"
    }
   ],
   "source": [
    "#가입해지여부 확인\n",
    "telco.Leave.value_counts().plot(kind='bar')\n",
    "\n",
    "#가입을 해지하지 않은 사용자가 대부분"
   ]
  },
  {
   "cell_type": "code",
   "execution_count": 14,
   "metadata": {},
   "outputs": [
    {
     "data": {
      "text/plain": [
       "<AxesSubplot:>"
      ]
     },
     "execution_count": 14,
     "metadata": {},
     "output_type": "execute_result"
    },
    {
     "data": {
      "image/png": "[encoded data removed]",
      "text/plain": [
       "<Figure size 432x288 with 1 Axes>"
      ]
     },
     "metadata": {
      "needs_background": "light"
     },
     "output_type": "display_data"
    }
   ],
   "source": [
    "#가입갱신여부 확인\n",
    "telco.NewContract.value_counts().plot(kind='bar')\n",
    "\n",
    "#가입 갱신한 사용자가 대부분"
   ]
  },
  {
   "cell_type": "code",
   "execution_count": 15,
   "metadata": {},
   "outputs": [
    {
     "data": {
      "text/plain": [
       "<AxesSubplot:>"
      ]
     },
     "execution_count": 15,
     "metadata": {},
     "output_type": "execute_result"
    },
    {
     "data": {
      "image/png": "[encoded data removed]",
      "text/plain": [
       "<Figure size 432x288 with 1 Axes>"
      ]
     },
     "metadata": {
      "needs_background": "light"
     },
     "output_type": "display_data"
    }
   ],
   "source": [
    "#데이터요금제사용여부 확인\n",
    "telco.IsData.value_counts().plot(kind='bar')\n",
    "\n",
    "#데이터 요금제를 사용하지 않는 사용자가 더 많다."
   ]
  },
  {
   "cell_type": "code",
   "execution_count": 16,
   "metadata": {},
   "outputs": [
    {
     "data": {
      "text/plain": [
       "1    1181\n",
       "2     759\n",
       "0     697\n",
       "3     429\n",
       "4     166\n",
       "5      66\n",
       "6      22\n",
       "7       9\n",
       "9       2\n",
       "8       2\n",
       "Name: Callcenter, dtype: int64"
      ]
     },
     "execution_count": 16,
     "metadata": {},
     "output_type": "execute_result"
    }
   ],
   "source": [
    "telco.Callcenter.value_counts()"
   ]
  },
  {
   "cell_type": "code",
   "execution_count": 17,
   "metadata": {},
   "outputs": [
    {
     "data": {
      "text/plain": [
       "<BarContainer object of 10 artists>"
      ]
     },
     "execution_count": 17,
     "metadata": {},
     "output_type": "execute_result"
    },
    {
     "data": {
      "image/png": "[encoded data removed]",
      "text/plain": [
       "<Figure size 720x576 with 1 Axes>"
      ]
     },
     "metadata": {
      "needs_background": "light"
     },
     "output_type": "display_data"
    }
   ],
   "source": [
    "#고객센터전화량 확인\n",
    "fig, ax = plt.subplots(figsize=(10, 8))\n",
    "plt.bar(telco.Callcenter.value_counts().index, telco.Callcenter.value_counts())\n",
    "\n",
    "#고객센터에 한 번 전화한 사람이 가장 많고 두 번, 0번이 그 뒤를 따른다."
   ]
  },
  {
   "cell_type": "code",
   "execution_count": 18,
   "metadata": {},
   "outputs": [
    {
     "data": {
      "text/plain": [
       "102    78\n",
       "105    75\n",
       "107    69\n",
       "95     69\n",
       "104    68\n",
       "       ..\n",
       "149     1\n",
       "157     1\n",
       "36      1\n",
       "30      1\n",
       "165     1\n",
       "Name: CalCounts, Length: 119, dtype: int64"
      ]
     },
     "execution_count": 18,
     "metadata": {},
     "output_type": "execute_result"
    }
   ],
   "source": [
    "telco.CalCounts.value_counts()"
   ]
  },
  {
   "cell_type": "code",
   "execution_count": 19,
   "metadata": {},
   "outputs": [
    {
     "data": {
      "text/plain": [
       "<AxesSubplot:>"
      ]
     },
     "execution_count": 19,
     "metadata": {},
     "output_type": "execute_result"
    },
    {
     "data": {
      "image/png": "[encoded data removed]",
      "text/plain": [
       "<Figure size 720x576 with 1 Axes>"
      ]
     },
     "metadata": {
      "needs_background": "light"
     },
     "output_type": "display_data"
    }
   ],
   "source": [
    "#월평균전화수 히스토그램\n",
    "fig, ax = plt.subplots(figsize=(10, 8))\n",
    "telco.CalCounts.hist(ax=ax, bins=20)\n",
    "\n",
    "#월평균 전화 횟수는 약 90회에서 110회 사이에 가장 많이 분포한다."
   ]
  },
  {
   "cell_type": "code",
   "execution_count": 20,
   "metadata": {},
   "outputs": [
    {
     "data": {
      "text/plain": [
       "<AxesSubplot:>"
      ]
     },
     "execution_count": 20,
     "metadata": {},
     "output_type": "execute_result"
    },
    {
     "data": {
      "image/png": "[encoded data removed]",
      "text/plain": [
       "<Figure size 720x576 with 1 Axes>"
      ]
     },
     "metadata": {
      "needs_background": "light"
     },
     "output_type": "display_data"
    }
   ],
   "source": [
    "#월평균전화량 히스토그램\n",
    "fig, ax = plt.subplots(figsize=(10, 8))\n",
    "telco.CalMins.hist(ax=ax, bins=30)\n",
    "\n",
    "#약 150분에서 200분 사이에 가장 많이 분포한다."
   ]
  },
  {
   "cell_type": "code",
   "execution_count": 24,
   "metadata": {},
   "outputs": [
    {
     "data": {
      "text/plain": [
       "<AxesSubplot:>"
      ]
     },
     "execution_count": 24,
     "metadata": {},
     "output_type": "execute_result"
    },
    {
     "data": {
      "image/png": "[encoded data removed]",
      "text/plain": [
       "<Figure size 720x576 with 1 Axes>"
      ]
     },
     "metadata": {
      "needs_background": "light"
     },
     "output_type": "display_data"
    }
   ],
   "source": [
    "#로밍시간 히스토그램\n",
    "fig, ax = plt.subplots(figsize=(10, 8))\n",
    "telco.RoamingMin.hist(ax=ax, bins=30)\n",
    "\n",
    "#약 8분에서 12분 사이에 가장 많이 분포한다."
   ]
  },
  {
   "cell_type": "code",
   "execution_count": 25,
   "metadata": {},
   "outputs": [
    {
     "data": {
      "text/plain": [
       "0.000000    1813\n",
       "0.310059      41\n",
       "0.209961      39\n",
       "0.290039      36\n",
       "0.260010      34\n",
       "            ... \n",
       "1.049805       1\n",
       "1.400391       1\n",
       "4.238281       1\n",
       "4.019531       1\n",
       "4.730469       1\n",
       "Name: DataAmount, Length: 174, dtype: int64"
      ]
     },
     "execution_count": 25,
     "metadata": {},
     "output_type": "execute_result"
    }
   ],
   "source": [
    "telco.DataAmount.value_counts()"
   ]
  },
  {
   "cell_type": "code",
   "execution_count": 26,
   "metadata": {},
   "outputs": [
    {
     "data": {
      "text/plain": [
       "<AxesSubplot:>"
      ]
     },
     "execution_count": 26,
     "metadata": {},
     "output_type": "execute_result"
    },
    {
     "data": {
      "image/png": "[encoded data removed]",
      "text/plain": [
       "<Figure size 432x288 with 1 Axes>"
      ]
     },
     "metadata": {
      "needs_background": "light"
     },
     "output_type": "display_data"
    }
   ],
   "source": [
    "#수치(데이터사용량)의 범주화\n",
    "(\n",
    "    telco.DataAmount.pipe(lambda ser_: pd.cut(ser_, 10))\n",
    "    .value_counts().plot.bar()\n",
    ")\n",
    "\n",
    "#데이터 사용량이 0인 사용자가 많아 (-0.0054, 0.54]가 압도적으로 많다."
   ]
  },
  {
   "cell_type": "code",
   "execution_count": 27,
   "metadata": {},
   "outputs": [
    {
     "data": {
      "text/plain": [
       "<seaborn.axisgrid.FacetGrid at 0x1f249272f40>"
      ]
     },
     "execution_count": 27,
     "metadata": {},
     "output_type": "execute_result"
    },
    {
     "data": {
      "image/png": "[encoded data removed]",
      "text/plain": [
       "<Figure size 360x360 with 1 Axes>"
      ]
     },
     "metadata": {
      "needs_background": "light"
     },
     "output_type": "display_data"
    }
   ],
   "source": [
    "#데이터요금제사용여부에 따른 월평균요금 비교\n",
    "sns.catplot(x='IsData', y='MonthlyFee', data=telco, kind='box')\n",
    "\n",
    "#데이터 요금제 사용자의 요금이 더 비싸다."
   ]
  },
  {
   "cell_type": "code",
   "execution_count": 28,
   "metadata": {},
   "outputs": [
    {
     "data": {
      "text/plain": [
       "<seaborn.axisgrid.FacetGrid at 0x1f248ce0700>"
      ]
     },
     "execution_count": 28,
     "metadata": {},
     "output_type": "execute_result"
    },
    {
     "data": {
      "image/png": "[encoded data removed]",
      "text/plain": [
       "<Figure size 402.375x360 with 1 Axes>"
      ]
     },
     "metadata": {
      "needs_background": "light"
     },
     "output_type": "display_data"
    }
   ],
   "source": [
    "#데이터요금제사용여부를 색으로 구분한 데이터사용량과 총 요금 간 산포도\n",
    "sns.relplot(x='DataAmount', y='totalFee', data=telco, hue='IsData', alpha=.5)\n",
    "\n",
    "#데이터 사용량과 총 요금은 비례한다."
   ]
  },
  {
   "cell_type": "code",
   "execution_count": 29,
   "metadata": {},
   "outputs": [
    {
     "data": {
      "text/plain": [
       "<seaborn.axisgrid.FacetGrid at 0x1f248f9c490>"
      ]
     },
     "execution_count": 29,
     "metadata": {},
     "output_type": "execute_result"
    },
    {
     "data": {
      "image/png": "[encoded data removed]",
      "text/plain": [
       "<Figure size 402.375x360 with 1 Axes>"
      ]
     },
     "metadata": {
      "needs_background": "light"
     },
     "output_type": "display_data"
    }
   ],
   "source": [
    "#데이터요금제사용여부를 색으로 구분한 월평균전화량과 총 요금 간 산포도\n",
    "sns.relplot(x='CalMins', y='totalFee', data=telco, hue='IsData', alpha=.5)\n",
    "\n",
    "#월평균 전화량과 총 요금은 비례한다."
   ]
  },
  {
   "cell_type": "code",
   "execution_count": null,
   "metadata": {},
   "outputs": [],
   "source": []
  },
  {
   "cell_type": "code",
   "execution_count": 30,
   "metadata": {},
   "outputs": [],
   "source": [
    "#가입기간이 180일 이상, 데이터사용량이 2GB 이상, 월평균요금이 70이상인 VIP를 뽑아보자\n",
    "v1 = telco.MemberWeeks > 180\n",
    "v2 = telco.DataAmount > 2\n",
    "v3 = telco.MonthlyFee > 70\n",
    "VIP = v1 & v2 & v3"
   ]
  },
  {
   "cell_type": "code",
   "execution_count": 31,
   "metadata": {},
   "outputs": [
    {
     "data": {
      "text/html": [
       "<div>\n",
       "<style scoped>\n",
       "    .dataframe tbody tr th:only-of-type {\n",
       "        vertical-align: middle;\n",
       "    }\n",
       "\n",
       "    .dataframe tbody tr th {\n",
       "        vertical-align: top;\n",
       "    }\n",
       "\n",
       "    .dataframe thead th {\n",
       "        text-align: right;\n",
       "    }\n",
       "</style>\n",
       "<table border=\"1\" class=\"dataframe\">\n",
       "  <thead>\n",
       "    <tr style=\"text-align: right;\">\n",
       "      <th></th>\n",
       "      <th>Leave</th>\n",
       "      <th>MemberWeeks</th>\n",
       "      <th>NewContract</th>\n",
       "      <th>IsData</th>\n",
       "      <th>DataAmount</th>\n",
       "      <th>Callcenter</th>\n",
       "      <th>CalMins</th>\n",
       "      <th>CalCounts</th>\n",
       "      <th>MonthlyFee</th>\n",
       "      <th>OverFee</th>\n",
       "      <th>RoamingMin</th>\n",
       "      <th>totalFee</th>\n",
       "    </tr>\n",
       "  </thead>\n",
       "  <tbody>\n",
       "    <tr>\n",
       "      <th>290</th>\n",
       "      <td>0</td>\n",
       "      <td>199</td>\n",
       "      <td>1</td>\n",
       "      <td>1</td>\n",
       "      <td>2.160156</td>\n",
       "      <td>0</td>\n",
       "      <td>230.625</td>\n",
       "      <td>121</td>\n",
       "      <td>79.6250</td>\n",
       "      <td>10.968750</td>\n",
       "      <td>8.000000</td>\n",
       "      <td>90.6250</td>\n",
       "    </tr>\n",
       "    <tr>\n",
       "      <th>510</th>\n",
       "      <td>0</td>\n",
       "      <td>193</td>\n",
       "      <td>1</td>\n",
       "      <td>1</td>\n",
       "      <td>3.320312</td>\n",
       "      <td>1</td>\n",
       "      <td>124.000</td>\n",
       "      <td>102</td>\n",
       "      <td>72.1875</td>\n",
       "      <td>10.148438</td>\n",
       "      <td>12.296875</td>\n",
       "      <td>82.3125</td>\n",
       "    </tr>\n",
       "    <tr>\n",
       "      <th>682</th>\n",
       "      <td>0</td>\n",
       "      <td>189</td>\n",
       "      <td>1</td>\n",
       "      <td>1</td>\n",
       "      <td>3.080078</td>\n",
       "      <td>3</td>\n",
       "      <td>256.750</td>\n",
       "      <td>98</td>\n",
       "      <td>87.8125</td>\n",
       "      <td>7.531250</td>\n",
       "      <td>11.398438</td>\n",
       "      <td>95.3750</td>\n",
       "    </tr>\n",
       "    <tr>\n",
       "      <th>1064</th>\n",
       "      <td>0</td>\n",
       "      <td>185</td>\n",
       "      <td>0</td>\n",
       "      <td>1</td>\n",
       "      <td>3.480469</td>\n",
       "      <td>2</td>\n",
       "      <td>154.125</td>\n",
       "      <td>114</td>\n",
       "      <td>71.8125</td>\n",
       "      <td>5.941406</td>\n",
       "      <td>12.898438</td>\n",
       "      <td>77.7500</td>\n",
       "    </tr>\n",
       "    <tr>\n",
       "      <th>1330</th>\n",
       "      <td>0</td>\n",
       "      <td>185</td>\n",
       "      <td>1</td>\n",
       "      <td>1</td>\n",
       "      <td>3.730469</td>\n",
       "      <td>2</td>\n",
       "      <td>151.125</td>\n",
       "      <td>121</td>\n",
       "      <td>84.3125</td>\n",
       "      <td>12.242188</td>\n",
       "      <td>13.796875</td>\n",
       "      <td>96.5625</td>\n",
       "    </tr>\n",
       "    <tr>\n",
       "      <th>1781</th>\n",
       "      <td>0</td>\n",
       "      <td>201</td>\n",
       "      <td>1</td>\n",
       "      <td>1</td>\n",
       "      <td>4.078125</td>\n",
       "      <td>1</td>\n",
       "      <td>192.000</td>\n",
       "      <td>97</td>\n",
       "      <td>93.8125</td>\n",
       "      <td>11.960938</td>\n",
       "      <td>15.101562</td>\n",
       "      <td>105.7500</td>\n",
       "    </tr>\n",
       "    <tr>\n",
       "      <th>1909</th>\n",
       "      <td>0</td>\n",
       "      <td>195</td>\n",
       "      <td>1</td>\n",
       "      <td>1</td>\n",
       "      <td>3.269531</td>\n",
       "      <td>0</td>\n",
       "      <td>231.750</td>\n",
       "      <td>110</td>\n",
       "      <td>91.6875</td>\n",
       "      <td>11.257812</td>\n",
       "      <td>12.101562</td>\n",
       "      <td>102.9375</td>\n",
       "    </tr>\n",
       "    <tr>\n",
       "      <th>2259</th>\n",
       "      <td>0</td>\n",
       "      <td>210</td>\n",
       "      <td>1</td>\n",
       "      <td>1</td>\n",
       "      <td>2.730469</td>\n",
       "      <td>3</td>\n",
       "      <td>313.750</td>\n",
       "      <td>87</td>\n",
       "      <td>93.3125</td>\n",
       "      <td>7.390625</td>\n",
       "      <td>10.101562</td>\n",
       "      <td>100.6875</td>\n",
       "    </tr>\n",
       "    <tr>\n",
       "      <th>2431</th>\n",
       "      <td>0</td>\n",
       "      <td>183</td>\n",
       "      <td>1</td>\n",
       "      <td>1</td>\n",
       "      <td>2.750000</td>\n",
       "      <td>1</td>\n",
       "      <td>171.250</td>\n",
       "      <td>104</td>\n",
       "      <td>73.5000</td>\n",
       "      <td>9.679688</td>\n",
       "      <td>10.203125</td>\n",
       "      <td>83.1875</td>\n",
       "    </tr>\n",
       "    <tr>\n",
       "      <th>2664</th>\n",
       "      <td>1</td>\n",
       "      <td>188</td>\n",
       "      <td>0</td>\n",
       "      <td>1</td>\n",
       "      <td>3.890625</td>\n",
       "      <td>1</td>\n",
       "      <td>198.750</td>\n",
       "      <td>115</td>\n",
       "      <td>86.8750</td>\n",
       "      <td>8.328125</td>\n",
       "      <td>14.398438</td>\n",
       "      <td>95.1875</td>\n",
       "    </tr>\n",
       "    <tr>\n",
       "      <th>2714</th>\n",
       "      <td>0</td>\n",
       "      <td>189</td>\n",
       "      <td>1</td>\n",
       "      <td>1</td>\n",
       "      <td>4.160156</td>\n",
       "      <td>1</td>\n",
       "      <td>155.250</td>\n",
       "      <td>116</td>\n",
       "      <td>84.6250</td>\n",
       "      <td>9.781250</td>\n",
       "      <td>15.398438</td>\n",
       "      <td>94.3750</td>\n",
       "    </tr>\n",
       "    <tr>\n",
       "      <th>2878</th>\n",
       "      <td>0</td>\n",
       "      <td>185</td>\n",
       "      <td>1</td>\n",
       "      <td>1</td>\n",
       "      <td>2.589844</td>\n",
       "      <td>0</td>\n",
       "      <td>157.250</td>\n",
       "      <td>123</td>\n",
       "      <td>74.8750</td>\n",
       "      <td>12.890625</td>\n",
       "      <td>9.601562</td>\n",
       "      <td>87.7500</td>\n",
       "    </tr>\n",
       "    <tr>\n",
       "      <th>3095</th>\n",
       "      <td>0</td>\n",
       "      <td>181</td>\n",
       "      <td>1</td>\n",
       "      <td>1</td>\n",
       "      <td>2.859375</td>\n",
       "      <td>1</td>\n",
       "      <td>190.250</td>\n",
       "      <td>93</td>\n",
       "      <td>82.6250</td>\n",
       "      <td>12.453125</td>\n",
       "      <td>10.601562</td>\n",
       "      <td>95.0625</td>\n",
       "    </tr>\n",
       "    <tr>\n",
       "      <th>3220</th>\n",
       "      <td>0</td>\n",
       "      <td>184</td>\n",
       "      <td>1</td>\n",
       "      <td>1</td>\n",
       "      <td>2.750000</td>\n",
       "      <td>0</td>\n",
       "      <td>200.250</td>\n",
       "      <td>76</td>\n",
       "      <td>83.5000</td>\n",
       "      <td>12.679688</td>\n",
       "      <td>10.203125</td>\n",
       "      <td>96.1875</td>\n",
       "    </tr>\n",
       "    <tr>\n",
       "      <th>3328</th>\n",
       "      <td>0</td>\n",
       "      <td>192</td>\n",
       "      <td>1</td>\n",
       "      <td>1</td>\n",
       "      <td>2.669922</td>\n",
       "      <td>2</td>\n",
       "      <td>156.250</td>\n",
       "      <td>77</td>\n",
       "      <td>71.6875</td>\n",
       "      <td>10.781250</td>\n",
       "      <td>9.898438</td>\n",
       "      <td>82.5000</td>\n",
       "    </tr>\n",
       "  </tbody>\n",
       "</table>\n",
       "</div>"
      ],
      "text/plain": [
       "      Leave  MemberWeeks  NewContract  IsData  DataAmount  Callcenter  \\\n",
       "290       0          199            1       1    2.160156           0   \n",
       "510       0          193            1       1    3.320312           1   \n",
       "682       0          189            1       1    3.080078           3   \n",
       "1064      0          185            0       1    3.480469           2   \n",
       "1330      0          185            1       1    3.730469           2   \n",
       "1781      0          201            1       1    4.078125           1   \n",
       "1909      0          195            1       1    3.269531           0   \n",
       "2259      0          210            1       1    2.730469           3   \n",
       "2431      0          183            1       1    2.750000           1   \n",
       "2664      1          188            0       1    3.890625           1   \n",
       "2714      0          189            1       1    4.160156           1   \n",
       "2878      0          185            1       1    2.589844           0   \n",
       "3095      0          181            1       1    2.859375           1   \n",
       "3220      0          184            1       1    2.750000           0   \n",
       "3328      0          192            1       1    2.669922           2   \n",
       "\n",
       "      CalMins  CalCounts  MonthlyFee    OverFee  RoamingMin  totalFee  \n",
       "290   230.625        121     79.6250  10.968750    8.000000   90.6250  \n",
       "510   124.000        102     72.1875  10.148438   12.296875   82.3125  \n",
       "682   256.750         98     87.8125   7.531250   11.398438   95.3750  \n",
       "1064  154.125        114     71.8125   5.941406   12.898438   77.7500  \n",
       "1330  151.125        121     84.3125  12.242188   13.796875   96.5625  \n",
       "1781  192.000         97     93.8125  11.960938   15.101562  105.7500  \n",
       "1909  231.750        110     91.6875  11.257812   12.101562  102.9375  \n",
       "2259  313.750         87     93.3125   7.390625   10.101562  100.6875  \n",
       "2431  171.250        104     73.5000   9.679688   10.203125   83.1875  \n",
       "2664  198.750        115     86.8750   8.328125   14.398438   95.1875  \n",
       "2714  155.250        116     84.6250   9.781250   15.398438   94.3750  \n",
       "2878  157.250        123     74.8750  12.890625    9.601562   87.7500  \n",
       "3095  190.250         93     82.6250  12.453125   10.601562   95.0625  \n",
       "3220  200.250         76     83.5000  12.679688   10.203125   96.1875  \n",
       "3328  156.250         77     71.6875  10.781250    9.898438   82.5000  "
      ]
     },
     "execution_count": 31,
     "metadata": {},
     "output_type": "execute_result"
    }
   ],
   "source": [
    "telco[VIP]"
   ]
  },
  {
   "cell_type": "code",
   "execution_count": null,
   "metadata": {},
   "outputs": [],
   "source": []
  },
  {
   "cell_type": "code",
   "execution_count": 32,
   "metadata": {},
   "outputs": [
    {
     "data": {
      "text/html": [
       "<div>\n",
       "<style scoped>\n",
       "    .dataframe tbody tr th:only-of-type {\n",
       "        vertical-align: middle;\n",
       "    }\n",
       "\n",
       "    .dataframe tbody tr th {\n",
       "        vertical-align: top;\n",
       "    }\n",
       "\n",
       "    .dataframe thead th {\n",
       "        text-align: right;\n",
       "    }\n",
       "</style>\n",
       "<table border=\"1\" class=\"dataframe\">\n",
       "  <thead>\n",
       "    <tr style=\"text-align: right;\">\n",
       "      <th></th>\n",
       "      <th>DataAmount</th>\n",
       "    </tr>\n",
       "    <tr>\n",
       "      <th>IsData</th>\n",
       "      <th></th>\n",
       "    </tr>\n",
       "  </thead>\n",
       "  <tbody>\n",
       "    <tr>\n",
       "      <th>0</th>\n",
       "      <td>0.072083</td>\n",
       "    </tr>\n",
       "    <tr>\n",
       "      <th>1</th>\n",
       "      <td>2.763672</td>\n",
       "    </tr>\n",
       "  </tbody>\n",
       "</table>\n",
       "</div>"
      ],
      "text/plain": [
       "        DataAmount\n",
       "IsData            \n",
       "0         0.072083\n",
       "1         2.763672"
      ]
     },
     "execution_count": 32,
     "metadata": {},
     "output_type": "execute_result"
    }
   ],
   "source": [
    "#데이터요금제 사용 여부 별 데이터사용량 평균\n",
    "telco.groupby('IsData').agg({'DataAmount':'mean'})"
   ]
  },
  {
   "cell_type": "code",
   "execution_count": 33,
   "metadata": {},
   "outputs": [
    {
     "data": {
      "text/html": [
       "<div>\n",
       "<style scoped>\n",
       "    .dataframe tbody tr th:only-of-type {\n",
       "        vertical-align: middle;\n",
       "    }\n",
       "\n",
       "    .dataframe tbody tr th {\n",
       "        vertical-align: top;\n",
       "    }\n",
       "\n",
       "    .dataframe thead th {\n",
       "        text-align: right;\n",
       "    }\n",
       "</style>\n",
       "<table border=\"1\" class=\"dataframe\">\n",
       "  <thead>\n",
       "    <tr style=\"text-align: right;\">\n",
       "      <th></th>\n",
       "      <th>MonthlyFee</th>\n",
       "    </tr>\n",
       "    <tr>\n",
       "      <th>IsData</th>\n",
       "      <th></th>\n",
       "    </tr>\n",
       "  </thead>\n",
       "  <tbody>\n",
       "    <tr>\n",
       "      <th>0</th>\n",
       "      <td>48.8125</td>\n",
       "    </tr>\n",
       "    <tr>\n",
       "      <th>1</th>\n",
       "      <td>75.8750</td>\n",
       "    </tr>\n",
       "  </tbody>\n",
       "</table>\n",
       "</div>"
      ],
      "text/plain": [
       "        MonthlyFee\n",
       "IsData            \n",
       "0          48.8125\n",
       "1          75.8750"
      ]
     },
     "execution_count": 33,
     "metadata": {},
     "output_type": "execute_result"
    }
   ],
   "source": [
    "#데이터요금제 사용 여부 별 월평균요금 평균\n",
    "telco.groupby('IsData').agg({'MonthlyFee':'mean'})"
   ]
  },
  {
   "cell_type": "code",
   "execution_count": 34,
   "metadata": {},
   "outputs": [
    {
     "data": {
      "text/html": [
       "<div>\n",
       "<style scoped>\n",
       "    .dataframe tbody tr th:only-of-type {\n",
       "        vertical-align: middle;\n",
       "    }\n",
       "\n",
       "    .dataframe tbody tr th {\n",
       "        vertical-align: top;\n",
       "    }\n",
       "\n",
       "    .dataframe thead th {\n",
       "        text-align: right;\n",
       "    }\n",
       "</style>\n",
       "<table border=\"1\" class=\"dataframe\">\n",
       "  <thead>\n",
       "    <tr style=\"text-align: right;\">\n",
       "      <th></th>\n",
       "      <th>OverFee</th>\n",
       "    </tr>\n",
       "    <tr>\n",
       "      <th>IsData</th>\n",
       "      <th></th>\n",
       "    </tr>\n",
       "  </thead>\n",
       "  <tbody>\n",
       "    <tr>\n",
       "      <th>0</th>\n",
       "      <td>10.015625</td>\n",
       "    </tr>\n",
       "    <tr>\n",
       "      <th>1</th>\n",
       "      <td>10.140625</td>\n",
       "    </tr>\n",
       "  </tbody>\n",
       "</table>\n",
       "</div>"
      ],
      "text/plain": [
       "          OverFee\n",
       "IsData           \n",
       "0       10.015625\n",
       "1       10.140625"
      ]
     },
     "execution_count": 34,
     "metadata": {},
     "output_type": "execute_result"
    }
   ],
   "source": [
    "#데이터요금제사용여부 별 초과요금 평균\n",
    "telco.groupby('IsData').agg({'OverFee':'mean'})"
   ]
  },
  {
   "cell_type": "code",
   "execution_count": 35,
   "metadata": {},
   "outputs": [
    {
     "data": {
      "text/html": [
       "<div>\n",
       "<style scoped>\n",
       "    .dataframe tbody tr th:only-of-type {\n",
       "        vertical-align: middle;\n",
       "    }\n",
       "\n",
       "    .dataframe tbody tr th {\n",
       "        vertical-align: top;\n",
       "    }\n",
       "\n",
       "    .dataframe thead th {\n",
       "        text-align: right;\n",
       "    }\n",
       "</style>\n",
       "<table border=\"1\" class=\"dataframe\">\n",
       "  <thead>\n",
       "    <tr style=\"text-align: right;\">\n",
       "      <th></th>\n",
       "      <th>MemberWeeks</th>\n",
       "      <th>DataAmount</th>\n",
       "      <th>CalMins</th>\n",
       "      <th>MonthlyFee</th>\n",
       "      <th>OverFee</th>\n",
       "      <th>totalFee</th>\n",
       "    </tr>\n",
       "    <tr>\n",
       "      <th>IsData</th>\n",
       "      <th></th>\n",
       "      <th></th>\n",
       "      <th></th>\n",
       "      <th></th>\n",
       "      <th></th>\n",
       "      <th></th>\n",
       "    </tr>\n",
       "  </thead>\n",
       "  <tbody>\n",
       "    <tr>\n",
       "      <th>0</th>\n",
       "      <td>100.992949</td>\n",
       "      <td>0.072083</td>\n",
       "      <td>179.875</td>\n",
       "      <td>48.8125</td>\n",
       "      <td>10.015625</td>\n",
       "      <td>58.84375</td>\n",
       "    </tr>\n",
       "    <tr>\n",
       "      <th>1</th>\n",
       "      <td>101.252711</td>\n",
       "      <td>2.763672</td>\n",
       "      <td>179.625</td>\n",
       "      <td>75.8750</td>\n",
       "      <td>10.140625</td>\n",
       "      <td>86.06250</td>\n",
       "    </tr>\n",
       "  </tbody>\n",
       "</table>\n",
       "</div>"
      ],
      "text/plain": [
       "        MemberWeeks  DataAmount  CalMins  MonthlyFee    OverFee  totalFee\n",
       "IsData                                                                   \n",
       "0        100.992949    0.072083  179.875     48.8125  10.015625  58.84375\n",
       "1        101.252711    2.763672  179.625     75.8750  10.140625  86.06250"
      ]
     },
     "execution_count": 35,
     "metadata": {},
     "output_type": "execute_result"
    }
   ],
   "source": [
    "#데이터요금제사용여부 별 컬럼 목록 평균(위 총합)\n",
    "(\n",
    "    telco[['IsData', 'MemberWeeks', 'DataAmount', 'CalMins', 'MonthlyFee', 'OverFee', 'totalFee']]\n",
    "    .groupby('IsData')\n",
    "    .agg('mean')\n",
    ")\n",
    "\n",
    "#데이터 요금제를 사용하는 사용자가 사용하지 않는 사용자에 비해 평균 데이터 사용량과 요금이 많다."
   ]
  },
  {
   "cell_type": "code",
   "execution_count": 36,
   "metadata": {},
   "outputs": [
    {
     "data": {
      "text/html": [
       "<div>\n",
       "<style scoped>\n",
       "    .dataframe tbody tr th:only-of-type {\n",
       "        vertical-align: middle;\n",
       "    }\n",
       "\n",
       "    .dataframe tbody tr th {\n",
       "        vertical-align: top;\n",
       "    }\n",
       "\n",
       "    .dataframe thead th {\n",
       "        text-align: right;\n",
       "    }\n",
       "</style>\n",
       "<table border=\"1\" class=\"dataframe\">\n",
       "  <thead>\n",
       "    <tr style=\"text-align: right;\">\n",
       "      <th></th>\n",
       "      <th>MemberWeeks</th>\n",
       "    </tr>\n",
       "    <tr>\n",
       "      <th>Leave</th>\n",
       "      <th></th>\n",
       "    </tr>\n",
       "  </thead>\n",
       "  <tbody>\n",
       "    <tr>\n",
       "      <th>0</th>\n",
       "      <td>100.793684</td>\n",
       "    </tr>\n",
       "    <tr>\n",
       "      <th>1</th>\n",
       "      <td>102.664596</td>\n",
       "    </tr>\n",
       "  </tbody>\n",
       "</table>\n",
       "</div>"
      ],
      "text/plain": [
       "       MemberWeeks\n",
       "Leave             \n",
       "0       100.793684\n",
       "1       102.664596"
      ]
     },
     "execution_count": 36,
     "metadata": {},
     "output_type": "execute_result"
    }
   ],
   "source": [
    "#가입해지여부 별 가입기간 평균\n",
    "(\n",
    "    telco[['Leave', 'MemberWeeks']]\n",
    "    .groupby('Leave')\n",
    "    .agg('mean')\n",
    ")\n",
    "\n",
    "#가입해지 여부에 상관 없이 가입기간 평균은 비슷하다."
   ]
  },
  {
   "cell_type": "code",
   "execution_count": 37,
   "metadata": {},
   "outputs": [
    {
     "data": {
      "text/html": [
       "<div>\n",
       "<style scoped>\n",
       "    .dataframe tbody tr th:only-of-type {\n",
       "        vertical-align: middle;\n",
       "    }\n",
       "\n",
       "    .dataframe tbody tr th {\n",
       "        vertical-align: top;\n",
       "    }\n",
       "\n",
       "    .dataframe thead tr th {\n",
       "        text-align: left;\n",
       "    }\n",
       "\n",
       "    .dataframe thead tr:last-of-type th {\n",
       "        text-align: right;\n",
       "    }\n",
       "</style>\n",
       "<table border=\"1\" class=\"dataframe\">\n",
       "  <thead>\n",
       "    <tr>\n",
       "      <th></th>\n",
       "      <th colspan=\"4\" halign=\"left\">MemberWeeks</th>\n",
       "      <th colspan=\"4\" halign=\"left\">DataAmount</th>\n",
       "      <th colspan=\"2\" halign=\"left\">CalMins</th>\n",
       "      <th>...</th>\n",
       "      <th colspan=\"2\" halign=\"left\">CalCounts</th>\n",
       "      <th colspan=\"4\" halign=\"left\">MonthlyFee</th>\n",
       "      <th colspan=\"4\" halign=\"left\">OverFee</th>\n",
       "    </tr>\n",
       "    <tr>\n",
       "      <th></th>\n",
       "      <th>mean</th>\n",
       "      <th>max</th>\n",
       "      <th>min</th>\n",
       "      <th>var</th>\n",
       "      <th>mean</th>\n",
       "      <th>max</th>\n",
       "      <th>min</th>\n",
       "      <th>var</th>\n",
       "      <th>mean</th>\n",
       "      <th>max</th>\n",
       "      <th>...</th>\n",
       "      <th>min</th>\n",
       "      <th>var</th>\n",
       "      <th>mean</th>\n",
       "      <th>max</th>\n",
       "      <th>min</th>\n",
       "      <th>var</th>\n",
       "      <th>mean</th>\n",
       "      <th>max</th>\n",
       "      <th>min</th>\n",
       "      <th>var</th>\n",
       "    </tr>\n",
       "    <tr>\n",
       "      <th>IsData</th>\n",
       "      <th></th>\n",
       "      <th></th>\n",
       "      <th></th>\n",
       "      <th></th>\n",
       "      <th></th>\n",
       "      <th></th>\n",
       "      <th></th>\n",
       "      <th></th>\n",
       "      <th></th>\n",
       "      <th></th>\n",
       "      <th></th>\n",
       "      <th></th>\n",
       "      <th></th>\n",
       "      <th></th>\n",
       "      <th></th>\n",
       "      <th></th>\n",
       "      <th></th>\n",
       "      <th></th>\n",
       "      <th></th>\n",
       "      <th></th>\n",
       "      <th></th>\n",
       "    </tr>\n",
       "  </thead>\n",
       "  <tbody>\n",
       "    <tr>\n",
       "      <th>0</th>\n",
       "      <td>100.992949</td>\n",
       "      <td>243</td>\n",
       "      <td>1</td>\n",
       "      <td>1618.022772</td>\n",
       "      <td>0.072083</td>\n",
       "      <td>0.509766</td>\n",
       "      <td>0.0</td>\n",
       "      <td>0.016968</td>\n",
       "      <td>179.875</td>\n",
       "      <td>350.75</td>\n",
       "      <td>...</td>\n",
       "      <td>0</td>\n",
       "      <td>408.136859</td>\n",
       "      <td>48.8125</td>\n",
       "      <td>84.0000</td>\n",
       "      <td>14.0</td>\n",
       "      <td>106.6875</td>\n",
       "      <td>10.015625</td>\n",
       "      <td>18.18750</td>\n",
       "      <td>0.000000</td>\n",
       "      <td>6.484375</td>\n",
       "    </tr>\n",
       "    <tr>\n",
       "      <th>1</th>\n",
       "      <td>101.252711</td>\n",
       "      <td>221</td>\n",
       "      <td>1</td>\n",
       "      <td>1503.155394</td>\n",
       "      <td>2.763672</td>\n",
       "      <td>5.398438</td>\n",
       "      <td>0.0</td>\n",
       "      <td>0.571777</td>\n",
       "      <td>179.625</td>\n",
       "      <td>322.50</td>\n",
       "      <td>...</td>\n",
       "      <td>35</td>\n",
       "      <td>388.977943</td>\n",
       "      <td>75.8750</td>\n",
       "      <td>111.3125</td>\n",
       "      <td>26.0</td>\n",
       "      <td>166.0000</td>\n",
       "      <td>10.140625</td>\n",
       "      <td>18.09375</td>\n",
       "      <td>2.109375</td>\n",
       "      <td>6.285156</td>\n",
       "    </tr>\n",
       "  </tbody>\n",
       "</table>\n",
       "<p>2 rows × 24 columns</p>\n",
       "</div>"
      ],
      "text/plain": [
       "       MemberWeeks                       DataAmount                           \\\n",
       "              mean  max min          var       mean       max  min       var   \n",
       "IsData                                                                         \n",
       "0       100.992949  243   1  1618.022772   0.072083  0.509766  0.0  0.016968   \n",
       "1       101.252711  221   1  1503.155394   2.763672  5.398438  0.0  0.571777   \n",
       "\n",
       "        CalMins          ... CalCounts             MonthlyFee                  \\\n",
       "           mean     max  ...       min         var       mean       max   min   \n",
       "IsData                   ...                                                    \n",
       "0       179.875  350.75  ...         0  408.136859    48.8125   84.0000  14.0   \n",
       "1       179.625  322.50  ...        35  388.977943    75.8750  111.3125  26.0   \n",
       "\n",
       "                    OverFee                                \n",
       "             var       mean       max       min       var  \n",
       "IsData                                                     \n",
       "0       106.6875  10.015625  18.18750  0.000000  6.484375  \n",
       "1       166.0000  10.140625  18.09375  2.109375  6.285156  \n",
       "\n",
       "[2 rows x 24 columns]"
      ]
     },
     "execution_count": 37,
     "metadata": {},
     "output_type": "execute_result"
    }
   ],
   "source": [
    "#가입해지여부 별 컬럼 집계\n",
    "(\n",
    "    telco[['IsData', 'MemberWeeks', 'DataAmount', 'CalMins', 'CalCounts', 'MonthlyFee', 'OverFee']]\n",
    "    .groupby('IsData')\n",
    "    .agg(['mean', 'max', 'min', 'var'])\n",
    ")"
   ]
  },
  {
   "cell_type": "code",
   "execution_count": null,
   "metadata": {},
   "outputs": [],
   "source": []
  }
 ],
 "metadata": {
  "kernelspec": {
   "display_name": "Python 3",
   "language": "python",
   "name": "python3"
  },
  "language_info": {
   "codemirror_mode": {
    "name": "ipython",
    "version": 3
   },
   "file_extension": ".py",
   "mimetype": "text/x-python",
   "name": "python",
   "nbconvert_exporter": "python",
   "pygments_lexer": "ipython3",
   "version": "3.8.5"
  }
 },
 "nbformat": 4,
 "nbformat_minor": 4
}
